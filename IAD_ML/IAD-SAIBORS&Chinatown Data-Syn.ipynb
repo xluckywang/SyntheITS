{
 "cells": [
  {
   "cell_type": "markdown",
   "id": "df8a8269",
   "metadata": {},
   "source": [
    "\n",
    "\n",
    "## ✅  查看版本信息"
   ]
  },
  {
   "cell_type": "code",
   "id": "d7142a33",
   "metadata": {},
   "source": [
    "# check installed version\n",
    "import pycaret\n",
    "pycaret.__version__"
   ],
   "outputs": [],
   "execution_count": null
  },
  {
   "cell_type": "markdown",
   "id": "3cbb934f",
   "metadata": {},
   "source": [
    "\n",
    "\n",
    "## ✅  数据预处理"
   ]
  },
  {
   "cell_type": "markdown",
   "id": "93bbe0d3",
   "metadata": {},
   "source": [
    "\n",
    "\n",
    "## 01加载数据\n",
    "训练集\\测试集\\生成数据集"
   ]
  },
  {
   "cell_type": "code",
   "id": "956dfdab",
   "metadata": {},
   "source": [
    "import os\n",
    "os.chdir('/program/IAD_ML')\n",
    "from data_precess.get_example_datas import load_and_prepare_data\n",
    "from data_precess.get_acverge_prediction_score import calculate_and_display_average_prediction_score\n",
    "\n",
    "# 设置基础路径\n",
    "base_path = '/program/IAD_ML'\n",
    "\n",
    "# 设置数据集类型\n",
    "# 01 tightening_data\n",
    "# data_type = 'tightening_data'\n",
    "\n",
    "# 02 validation_data\n",
    "data_type = 'chinatown_data'\n",
    "# data_type = 'sony_ai_robot_data'\n",
    "# data_type = 'gunpoint_oldversusyoung_data'\n",
    "\n",
    "\n",
    "# # 01 tightening_data\n",
    "# data_folder = os.path.join(base_path, 'data_sets_12_24', f'{data_type}', 'exp_feature_data', 'timegan')\n",
    "\n",
    "# # 02 sony_ai_robot_data\n",
    "data_folder = os.path.join(base_path, 'data_sets_12_24', 'validation_data', f'{data_type}', 'exp_feature_data')\n",
    "\n",
    "# Construct file paths\n",
    "file_path_train_data = os.path.join(data_folder, 'train_data.csv')\n",
    "file_path_test_data = os.path.join(data_folder, 'test_data.csv')\n",
    "file_path_syn_data = os.path.join(data_folder, 'syn_data.csv')\n",
    "\n",
    "try:\n",
    "    # Load and prepare data\n",
    "    train_data, test_data, syn_data = load_and_prepare_data(file_path_train_data, file_path_test_data, file_path_syn_data)\n",
    "    \n",
    "except Exception as e:\n",
    "    print(f\"An error occurred: {e}\")"
   ],
   "outputs": [],
   "execution_count": null
  },
  {
   "cell_type": "code",
   "id": "f73ce1cf",
   "metadata": {},
   "source": [
    "train_data.head()"
   ],
   "outputs": [],
   "execution_count": null
  },
  {
   "cell_type": "code",
   "id": "95a94c67",
   "metadata": {},
   "source": [
    "test_data.head()"
   ],
   "outputs": [],
   "execution_count": null
  },
  {
   "cell_type": "code",
   "id": "ed7961e7",
   "metadata": {},
   "source": [
    "syn_data.head()"
   ],
   "outputs": [],
   "execution_count": null
  },
  {
   "cell_type": "markdown",
   "id": "1aec4577",
   "metadata": {},
   "source": [
    "## 02去除不重要的特征\n",
    "特征1、Maximum特征2、Minimum特征3、Mean特征4、Standard Deviation特征5、Root Mean Square特征6、Skewness特征7、Kurtosis特征8、Peak Value特征9、Peak Value Index特征10、Shape Index特征11、Absolute Mean特征12、Sample Variance特征13、Root Amplitude特征14、Impulse Index特征15、Margin Index"
   ]
  },
  {
   "cell_type": "code",
   "id": "8e96e466",
   "metadata": {},
   "source": [
    "# # 去除特征Impulse Index\n",
    "# train_data.drop('Impulse Index', axis=1, inplace=True)\n",
    "# test_data.drop('Impulse Index', axis=1, inplace=True)\n",
    "# syn_data.drop('Impulse Index', axis=1, inplace=True)"
   ],
   "outputs": [],
   "execution_count": null
  },
  {
   "cell_type": "code",
   "id": "b039d3b4",
   "metadata": {},
   "source": [
    "# # 预览剔除不重要特征后的数据集\n",
    "# train_data.head()"
   ],
   "outputs": [],
   "execution_count": null
  },
  {
   "cell_type": "code",
   "id": "dfdee508",
   "metadata": {},
   "source": [
    "# # 预览剔除不重要特征后的数据集\n",
    "# test_data.head()"
   ],
   "outputs": [],
   "execution_count": null
  },
  {
   "cell_type": "code",
   "id": "2b430154",
   "metadata": {},
   "source": [
    "# # 预览剔除不重要特征后的数据集\n",
    "# syn_data.head()"
   ],
   "outputs": [],
   "execution_count": null
  },
  {
   "cell_type": "markdown",
   "id": "24286d24",
   "metadata": {},
   "source": [
    "\n",
    "\n",
    "## ✅  设置实验数据集合\n",
    "测试集数据保持不变,将不同比例的生成数据加入测试集(0.00/0.25/0.50/0.75/1.00)*生成数据"
   ]
  },
  {
   "cell_type": "code",
   "id": "3d79e192",
   "metadata": {},
   "source": [
    "import pandas as pd\n",
    "\n",
    "# 计算要合并的合成样本数\n",
    "ratio = 0.00\n",
    "syn_plus_samples = len(syn_data)\n",
    "num_syn_samples = int(ratio * syn_plus_samples)\n",
    "\n",
    "# 选择前 num_syn_samples 个合成样本\n",
    "synthetic_samples = syn_data.iloc[:num_syn_samples]\n",
    "new_train_data = pd.concat([train_data, synthetic_samples], axis=0).reset_index(drop=True)\n",
    "new_train_data.head()"
   ],
   "outputs": [],
   "execution_count": null
  },
  {
   "cell_type": "code",
   "id": "6d7eca65",
   "metadata": {},
   "source": [
    "# 设置保存路径（训练集、测试集、模型对比）\n",
    "data_folder_setup_info = os.path.join(base_path,\n",
    "                                          'experimental_results',\n",
    "                                          'validation_data',\n",
    "                                          f'{data_type}',\n",
    "                                          f'experiment_{ratio:.2f}',\n",
    "                                          'setup_info_and_results')"
   ],
   "outputs": [],
   "execution_count": null
  },
  {
   "cell_type": "code",
   "id": "f1b81bf5",
   "metadata": {},
   "source": [
    "# 保存为CSV文件（第一次运行保存即可，后续不用保存，一般第一次会运行xgboost）\n",
    "save_path_new_train_data = os.path.join(data_folder_setup_info, 'new_train_data.csv')\n",
    "new_train_data.to_csv(save_path_new_train_data, index=False)\n",
    "\n",
    "# 检查文件是否成功保存\n",
    "if os.path.exists(save_path_new_train_data):\n",
    "    print(f\"CSV file saved successfully at: {save_path_new_train_data}\")\n",
    "else:\n",
    "    print(f\"Failed to save CSV file at: {save_path_new_train_data}\")"
   ],
   "outputs": [],
   "execution_count": null
  },
  {
   "cell_type": "code",
   "id": "eb1c556b",
   "metadata": {},
   "source": [
    "# copy data and drop Class variable\n",
    "test_data_copy = test_data.copy()\n",
    "test_data_copy.head()"
   ],
   "outputs": [],
   "execution_count": null
  },
  {
   "cell_type": "code",
   "id": "dbc236a0",
   "metadata": {},
   "source": [
    "# 获取 new_train_data 的行数\n",
    "new_train_data_length = new_train_data.shape[0]\n",
    "\n",
    "# 重置 test_data 的索引，并加上 train_data 的行数\n",
    "new_test_data = test_data_copy.reset_index(drop=True)\n",
    "new_test_data.index = new_test_data.index + new_train_data_length\n",
    "new_test_data.head()"
   ],
   "outputs": [],
   "execution_count": null
  },
  {
   "cell_type": "code",
   "id": "d157b88e",
   "metadata": {},
   "source": [
    "# 保存为CSV文件（第一次运行保存即可，后续不用保存，一般第一次会运行xgboost）\n",
    "save_path_new_test_data = os.path.join(data_folder_setup_info, 'new_test_data.csv')\n",
    "new_test_data.to_csv(save_path_new_test_data, index=False)\n",
    "\n",
    "# 检查文件是否成功保存\n",
    "if os.path.exists(save_path_new_test_data):\n",
    "    print(f\"CSV file saved successfully at: {save_path_new_test_data}\")\n",
    "else:\n",
    "    print(f\"Failed to save CSV file at: {save_path_new_test_data}\")"
   ],
   "outputs": [],
   "execution_count": null
  },
  {
   "cell_type": "markdown",
   "id": "c00f6a4a",
   "metadata": {},
   "source": [
    "## ✅ 设置并启动模型"
   ]
  },
  {
   "cell_type": "code",
   "id": "97f2c6c6",
   "metadata": {},
   "source": [
    "# import pycaret classification and init setup\n",
    "from pycaret.classification import *\n",
    "\n",
    "# 设置折叠策略\n",
    "fold_strategy = 'stratifiedkfold'\n",
    "# 设置折叠数\n",
    "num_folds = 10\n",
    "# 是否在每个折之前洗牌数据\n",
    "fold_shuffle = True\n",
    "# 是否对数值型特征进行标准化\n",
    "normalize_data = True\n",
    "# 设置 session_id 以确保可重复性\n",
    "session_id = 123\n",
    "\n",
    "# 初始化 PyCaret\n",
    "s = setup(\n",
    "    data=new_train_data,\n",
    "    test_data=new_test_data,\n",
    "    target='labels',\n",
    "    fold_strategy=fold_strategy,\n",
    "    fold=num_folds,\n",
    "    fold_shuffle=fold_shuffle,\n",
    "    normalize=normalize_data,\n",
    "    session_id=session_id\n",
    ")\n"
   ],
   "outputs": [],
   "execution_count": null
  },
  {
   "cell_type": "code",
   "id": "8bfe65a0",
   "metadata": {
    "scrolled": false
   },
   "source": [
    "# help(setup)"
   ],
   "outputs": [],
   "execution_count": null
  },
  {
   "cell_type": "markdown",
   "id": "f98dd435",
   "metadata": {},
   "source": [
    "## ✅ 比较模型"
   ]
  },
  {
   "cell_type": "code",
   "id": "65a19df4",
   "metadata": {
    "scrolled": false
   },
   "source": [
    "# compare baseline models\n",
    "best = compare_models()"
   ],
   "outputs": [],
   "execution_count": null
  },
  {
   "cell_type": "code",
   "id": "7b63543c",
   "metadata": {
    "scrolled": false
   },
   "source": [
    "# help(compare_models)"
   ],
   "outputs": [],
   "execution_count": null
  },
  {
   "cell_type": "code",
   "id": "38be1d4d",
   "metadata": {},
   "source": [
    "# 获取比较结果的数据框（第一次运行保存即可，后续不用保存，一般第一次会运行xgboost）\n",
    "compare_results = pull()\n",
    "\n",
    "# 保存为CSV文件\n",
    "save_path_compare = os.path.join(data_folder_setup_info, 'compare_results.csv')\n",
    "compare_results.to_csv(save_path_compare, index=False)\n",
    "\n",
    "# 检查文件是否成功保存\n",
    "if os.path.exists(save_path_compare):\n",
    "    print(f\"CSV file saved successfully at: {save_path_compare}\")\n",
    "else:\n",
    "    print(f\"Failed to save CSV file at: {save_path_compare}\")"
   ],
   "outputs": [],
   "execution_count": null
  },
  {
   "cell_type": "markdown",
   "id": "ba1093e7",
   "metadata": {},
   "source": [
    "## ✅ 分析指定模型"
   ]
  },
  {
   "cell_type": "markdown",
   "id": "09c1bef3",
   "metadata": {},
   "source": [
    "## 01创建和优化模型"
   ]
  },
  {
   "cell_type": "code",
   "id": "6723a241",
   "metadata": {},
   "source": [
    "# 指定模型\n",
    "model_name = 'xgboost'\n",
    "\n",
    "# 设置保存路径\n",
    "data_folder_model = os.path.join(base_path,\n",
    "                                          'experimental_results',\n",
    "                                          'validation_data',\n",
    "                                          f'{data_type}',\n",
    "                                          f'experiment_{ratio:.2f}',\n",
    "                                          f'model_{model_name}')"
   ],
   "outputs": [],
   "execution_count": null
  },
  {
   "cell_type": "markdown",
   "id": "1a18cd82",
   "metadata": {},
   "source": [
    "## 01.1创建模型"
   ]
  },
  {
   "cell_type": "code",
   "id": "3e170ae9",
   "metadata": {
    "scrolled": false
   },
   "source": [
    "# train lr and return train score as well alongwith CV\n",
    "create_model = create_model(model_name)\n",
    "\n",
    "# 获取比较结果的数据框\n",
    "create_model_results = pull()"
   ],
   "outputs": [],
   "execution_count": null
  },
  {
   "cell_type": "code",
   "id": "aad6a454",
   "metadata": {},
   "source": [
    "# 保存为CSV文件\n",
    "save_path_create = os.path.join(data_folder_model, 'create_model_results.csv')\n",
    "create_model_results.to_csv(save_path_create, index=False)\n",
    "\n",
    "# 检查文件是否成功保存\n",
    "if os.path.exists(save_path_create):\n",
    "    print(f\"CSV file saved successfully at: {save_path_create}\")\n",
    "else:\n",
    "    print(f\"Failed to save CSV file at: {save_path_create}\")"
   ],
   "outputs": [],
   "execution_count": null
  },
  {
   "cell_type": "markdown",
   "id": "f8894a78",
   "metadata": {},
   "source": [
    "## 01.2优化模型"
   ]
  },
  {
   "cell_type": "code",
   "id": "0b1ebcf0",
   "metadata": {},
   "source": [
    "# 初始化调参\n",
    "tuned_model = tune_model(create_model, search_library='optuna')\n",
    "\n",
    "# 获取调优模型性能指标\n",
    "tuned_model_results = pull()"
   ],
   "outputs": [],
   "execution_count": null
  },
  {
   "cell_type": "code",
   "id": "99683bc4",
   "metadata": {
    "scrolled": false
   },
   "source": [
    "# 获取评估指标的列名\n",
    "metric_column_name = 'Accuracy'  # 选择评价指标，可以根据实际需求更改\n",
    "\n",
    "# 设置最大循环次数\n",
    "max_iterations = 10\n",
    "iteration_count = 0\n",
    "\n",
    "# 获取初始模型性能指标\n",
    "initial_metric = create_model_results[metric_column_name].iloc[-2]\n",
    "\n",
    "# 获取调优模型性能指标\n",
    "tuned_metric = tuned_model_results[metric_column_name].iloc[-2]\n",
    "\n",
    "# 比较初始模型和调优模型性能\n",
    "while tuned_metric < initial_metric and iteration_count < max_iterations:\n",
    "    # 继续优化\n",
    "    tuned_model = tune_model(create_model, search_library='optuna')\n",
    "    \n",
    "    # 获取调优模型性能指标\n",
    "    tuned_model_results = pull()\n",
    "    tuned_metric = tuned_model_results[metric_column_name].iloc[-2]  # 选择倒数第二行的值\n",
    "    \n",
    "    # 增加循环计数器\n",
    "    iteration_count += 1\n",
    "\n",
    "# 在循环结束后选择最好的模型\n",
    "# better_model = tuned_model if tuned_metric > initial_metric else create_model\n",
    "better_model = tuned_model if tuned_metric >= initial_metric else create_model"
   ],
   "outputs": [],
   "execution_count": null
  },
  {
   "cell_type": "code",
   "id": "b8bd9c36",
   "metadata": {
    "scrolled": false
   },
   "source": [
    "# help(tuned_model)"
   ],
   "outputs": [],
   "execution_count": null
  },
  {
   "cell_type": "code",
   "id": "e06054c5",
   "metadata": {},
   "source": [
    "# 保存为CSV文件\n",
    "save_path_tuned = os.path.join(data_folder_model, 'tuned_model_results.csv')\n",
    "tuned_model_results.to_csv(save_path_tuned, index=False)\n",
    "\n",
    "# 检查文件是否成功保存\n",
    "if os.path.exists(save_path_tuned):\n",
    "    print(f\"CSV file saved successfully at: {save_path_tuned}\")\n",
    "else:\n",
    "    print(f\"Failed to save CSV file at: {save_path_tuned}\")"
   ],
   "outputs": [],
   "execution_count": null
  },
  {
   "cell_type": "markdown",
   "id": "aaa980cd",
   "metadata": {},
   "source": [
    "## 02模型评估"
   ]
  },
  {
   "cell_type": "code",
   "id": "3d4dfbd5",
   "metadata": {},
   "source": [
    "# 自定义保存基础路径\n",
    "base_path_images = r'C:\\Users\\AdmaZ\\Desktop\\experimental_results'\n",
    "\n",
    "# 设置保存路径\n",
    "images_save_path = os.path.join(base_path_images,\n",
    "                                f'{data_type}',\n",
    "                                f'experiment_{ratio:.2f}',\n",
    "                                f'model_{model_name}')"
   ],
   "outputs": [],
   "execution_count": null
  },
  {
   "cell_type": "markdown",
   "id": "6f7de441",
   "metadata": {},
   "source": [
    "## 02.1解释模型"
   ]
  },
  {
   "cell_type": "code",
   "id": "d5234fd8",
   "metadata": {},
   "source": [
    "# interpret summary model（不支持:lda，lr，gbc，nb，knn，svm）\n",
    "interpret_model(better_model, plot = 'summary', save=images_save_path)"
   ],
   "outputs": [],
   "execution_count": null
  },
  {
   "cell_type": "code",
   "id": "535e5754",
   "metadata": {},
   "source": [
    "# interpret correlation model（不支持:lda，lr，gbc，nb，knn，svm）\n",
    "interpret_model(better_model, plot = 'correlation', save=images_save_path)"
   ],
   "outputs": [],
   "execution_count": null
  },
  {
   "cell_type": "code",
   "id": "3e154b7c",
   "metadata": {},
   "source": [
    "# # interpret summary model\n",
    "# interpret_model(tuned_model, plot = 'reason')"
   ],
   "outputs": [],
   "execution_count": null
  },
  {
   "cell_type": "code",
   "id": "b9ce22f3",
   "metadata": {},
   "source": [
    "# # interpret summary model\n",
    "# interpret_model(tuned_model, plot = 'pdp')"
   ],
   "outputs": [],
   "execution_count": null
  },
  {
   "cell_type": "code",
   "id": "bcd52257",
   "metadata": {},
   "source": [
    "# # interpret summary model\n",
    "# interpret_model(tuned_model, plot = 'msa')"
   ],
   "outputs": [],
   "execution_count": null
  },
  {
   "cell_type": "code",
   "id": "5feeee0b",
   "metadata": {},
   "source": [
    "# # interpret summary model\n",
    "# interpret_model(tuned_model, plot = 'pfi')"
   ],
   "outputs": [],
   "execution_count": null
  },
  {
   "cell_type": "code",
   "id": "1fe9b2a4",
   "metadata": {},
   "source": [
    "# help(interpret_model)"
   ],
   "outputs": [],
   "execution_count": null
  },
  {
   "cell_type": "markdown",
   "id": "6a35e256",
   "metadata": {},
   "source": [
    "## 02.2评估模型"
   ]
  },
  {
   "cell_type": "code",
   "id": "d0368dea",
   "metadata": {},
   "source": [
    "evaluate_model(tuned_model)"
   ],
   "outputs": [],
   "execution_count": null
  },
  {
   "cell_type": "markdown",
   "id": "f4701d43",
   "metadata": {},
   "source": [
    "## 02.3绘图模型"
   ]
  },
  {
   "cell_type": "code",
   "id": "44544330",
   "metadata": {},
   "source": [
    "# 01 Precision Recall\n",
    "file_path_pr = plot_model(better_model, plot='pr', save=images_save_path)\n",
    "\n",
    "# 检查图片是否存在\n",
    "if os.path.exists(file_path_pr):\n",
    "    print(\"图片保存成功！\")\n",
    "    print(f\"生成的图片文件名：{file_path_pr}\")\n",
    "else:\n",
    "    print(\"图片保存失败。\")"
   ],
   "outputs": [],
   "execution_count": null
  },
  {
   "cell_type": "code",
   "id": "d9f5fd32",
   "metadata": {},
   "source": [
    "# 02 Manifold Learning\n",
    "file_path_manifold = plot_model(better_model, plot='manifold', save=images_save_path)\n",
    "\n",
    "# 检查图片是否存在\n",
    "if os.path.exists(file_path_manifold):\n",
    "    print(\"图片保存成功！\")\n",
    "    print(f\"生成的图片文件名：{file_path_manifold}\")\n",
    "else:\n",
    "    print(\"图片保存失败。\")"
   ],
   "outputs": [],
   "execution_count": null
  },
  {
   "cell_type": "code",
   "id": "cf66bfc4",
   "metadata": {},
   "source": [
    "# 03 Feature Importance plot（不支持：nb，knn，\n",
    "file_path_feature_all = plot_model(better_model, plot='feature_all', save=images_save_path)\n",
    "\n",
    "# 检查图片是否存在\n",
    "if os.path.exists(file_path_feature_all):\n",
    "    print(\"图片保存成功！\")\n",
    "    print(f\"生成的图片文件名：{file_path_feature_all}\")\n",
    "else:\n",
    "    print(\"图片保存失败。\")"
   ],
   "outputs": [],
   "execution_count": null
  },
  {
   "cell_type": "code",
   "id": "795bb892",
   "metadata": {},
   "source": [
    "# 04 KS Statistic Plot（不支持：svm，\n",
    "file_path_ks = plot_model(better_model, plot='ks', save=images_save_path)\n",
    "\n",
    "# 检查图片是否存在\n",
    "if os.path.exists(file_path_ks):\n",
    "    print(\"图片保存成功！\")\n",
    "    print(f\"生成的图片文件名：{file_path_ks}\")\n",
    "else:\n",
    "    print(\"图片保存失败。\")"
   ],
   "outputs": [],
   "execution_count": null
  },
  {
   "cell_type": "code",
   "id": "afa35a7d",
   "metadata": {},
   "source": [
    "# 05 Hyperparameters\n",
    "file_path_parameter = plot_model(better_model, plot='parameter', save=images_save_path)\n",
    "\n",
    "# 检查图片是否存在\n",
    "if os.path.exists(file_path_parameter):\n",
    "    print(\"图片保存成功！\")\n",
    "    print(f\"生成的图片文件名：{file_path_parameter}\")\n",
    "else:\n",
    "    print(\"图片保存失败。\")"
   ],
   "outputs": [],
   "execution_count": null
  },
  {
   "cell_type": "code",
   "id": "c27de87c",
   "metadata": {},
   "source": [
    "# 06 Prediction Error\n",
    "file_path_error = plot_model(better_model, plot='error', save=images_save_path)\n",
    "\n",
    "# 检查图片是否存在\n",
    "if os.path.exists(file_path_error):\n",
    "    print(\"图片保存成功！\")\n",
    "    print(f\"生成的图片文件名：{file_path_error}\")\n",
    "else:\n",
    "    print(\"图片保存失败。\")"
   ],
   "outputs": [],
   "execution_count": null
  },
  {
   "cell_type": "code",
   "id": "df6a9c8f",
   "metadata": {},
   "source": [
    "# 07 Calibration Curve（不支持：svm，\n",
    "file_path_calibration = plot_model(better_model, plot='calibration', save=images_save_path)\n",
    "\n",
    "# 检查图片是否存在\n",
    "if os.path.exists(file_path_calibration):\n",
    "    print(\"图片保存成功！\")\n",
    "    print(f\"生成的图片文件名：{file_path_calibration}\")\n",
    "else:\n",
    "    print(\"图片保存失败。\")"
   ],
   "outputs": [],
   "execution_count": null
  },
  {
   "cell_type": "code",
   "id": "75704c38",
   "metadata": {},
   "source": [
    "# 08 Decision Boundary\n",
    "file_path_boundary = plot_model(better_model, plot='boundary', save=images_save_path)\n",
    "\n",
    "# 检查图片是否存在\n",
    "if os.path.exists(file_path_boundary):\n",
    "    print(\"图片保存成功！\")\n",
    "    print(f\"生成的图片文件名：{file_path_boundary}\")\n",
    "else:\n",
    "    print(\"图片保存失败。\")"
   ],
   "outputs": [],
   "execution_count": null
  },
  {
   "cell_type": "code",
   "id": "fdc621dc",
   "metadata": {},
   "source": [
    "# 09 AUC（不支持：svm，\n",
    "file_path_auc = plot_model(better_model, plot='auc', save=images_save_path)\n",
    "\n",
    "# 检查图片是否存在\n",
    "if os.path.exists(file_path_auc):\n",
    "    print(\"图片保存成功！\")\n",
    "    print(f\"生成的图片文件名：{file_path_auc}\")\n",
    "else:\n",
    "    print(\"图片保存失败。\")"
   ],
   "outputs": [],
   "execution_count": null
  },
  {
   "cell_type": "code",
   "id": "1577128b",
   "metadata": {},
   "source": [
    "# 10 Class Report\n",
    "file_path_class_report = plot_model(better_model, plot='class_report', save=images_save_path)\n",
    "\n",
    "# 检查图片是否存在\n",
    "if os.path.exists(file_path_class_report):\n",
    "    print(\"图片保存成功！\")\n",
    "    print(f\"生成的图片文件名：{file_path_class_report}\")\n",
    "else:\n",
    "    print(\"图片保存失败。\")"
   ],
   "outputs": [],
   "execution_count": null
  },
  {
   "cell_type": "code",
   "id": "94218df0",
   "metadata": {},
   "source": [
    "# 11 Validation Curve（不支持：lda，\n",
    "file_path_vc = plot_model(better_model, plot='vc', save=images_save_path)\n",
    "\n",
    "# 检查图片是否存在\n",
    "if os.path.exists(file_path_vc):\n",
    "    print(\"图片保存成功！\")\n",
    "    print(f\"生成的图片文件名：{file_path_vc}\")\n",
    "else:\n",
    "    print(\"图片保存失败。\")"
   ],
   "outputs": [],
   "execution_count": null
  },
  {
   "cell_type": "code",
   "id": "959392d8",
   "metadata": {},
   "source": [
    "# 12 Lift Chart（不支持：svm，\n",
    "file_path_lift = plot_model(better_model, plot='lift', save=images_save_path)\n",
    "\n",
    "# 检查图片是否存在\n",
    "if os.path.exists(file_path_lift):\n",
    "    print(\"图片保存成功！\")\n",
    "    print(f\"生成的图片文件名：{file_path_lift}\")\n",
    "else:\n",
    "    print(\"图片保存失败。\")"
   ],
   "outputs": [],
   "execution_count": null
  },
  {
   "cell_type": "code",
   "id": "e3f07d98",
   "metadata": {},
   "source": [
    "# 13 Confusion Matrix\n",
    "file_path_confusion_matrix = plot_model(better_model, plot='confusion_matrix', save=images_save_path)\n",
    "\n",
    "# 检查图片是否存在\n",
    "if os.path.exists(file_path_confusion_matrix):\n",
    "    print(\"图片保存成功！\")\n",
    "    print(f\"生成的图片文件名：{file_path_confusion_matrix}\")\n",
    "else:\n",
    "    print(\"图片保存失败。\")"
   ],
   "outputs": [],
   "execution_count": null
  },
  {
   "cell_type": "code",
   "id": "b79e1eb9",
   "metadata": {},
   "source": [
    "# 14 Feature Selection（不支持：nb，knn，\n",
    "file_path_rfe = plot_model(better_model, plot='rfe', save=images_save_path)\n",
    "\n",
    "# 检查图片是否存在\n",
    "if os.path.exists(file_path_rfe):\n",
    "    print(\"图片保存成功！\")\n",
    "    print(f\"生成的图片文件名：{file_path_rfe}\")\n",
    "else:\n",
    "    print(\"图片保存失败。\")"
   ],
   "outputs": [],
   "execution_count": null
  },
  {
   "cell_type": "code",
   "id": "773c376b",
   "metadata": {},
   "source": [
    "# 15 Dimensions\n",
    "file_path_dimension = plot_model(better_model, plot='dimension', save=images_save_path)\n",
    "\n",
    "# 检查图片是否存在\n",
    "if os.path.exists(file_path_dimension):\n",
    "    print(\"图片保存成功！\")\n",
    "    print(f\"生成的图片文件名：{file_path_dimension}\")\n",
    "else:\n",
    "    print(\"图片保存失败。\")"
   ],
   "outputs": [],
   "execution_count": null
  },
  {
   "cell_type": "code",
   "id": "87104ed5",
   "metadata": {},
   "source": [
    "# 16 Gain Chart（不支持：svm，\n",
    "file_path_gain = plot_model(better_model, plot='gain', save=images_save_path)\n",
    "\n",
    "# 检查图片是否存在\n",
    "if os.path.exists(file_path_gain):\n",
    "    print(\"图片保存成功！\")\n",
    "    print(f\"生成的图片文件名：{file_path_gain}\")\n",
    "else:\n",
    "    print(\"图片保存失败。\")"
   ],
   "outputs": [],
   "execution_count": null
  },
  {
   "cell_type": "code",
   "id": "98a74dbe",
   "metadata": {},
   "source": [
    "# 17 Threshold\n",
    "file_path_threshold = plot_model(better_model, plot='threshold', save=images_save_path)\n",
    "\n",
    "# 检查图片是否存在\n",
    "if os.path.exists(file_path_threshold):\n",
    "    print(\"图片保存成功！\")\n",
    "    print(f\"生成的图片文件名：{file_path_threshold}\")\n",
    "else:\n",
    "    print(\"图片保存失败。\")"
   ],
   "outputs": [],
   "execution_count": null
  },
  {
   "cell_type": "code",
   "id": "766dfe97",
   "metadata": {},
   "source": [
    "# 18 Learning Curve\n",
    "file_path_learning = plot_model(better_model, plot='learning', save=images_save_path)\n",
    "\n",
    "# 检查图片是否存在\n",
    "if os.path.exists(file_path_learning):\n",
    "    print(\"图片保存成功！\")\n",
    "    print(f\"生成的图片文件名：{file_path_learning}\")\n",
    "else:\n",
    "    print(\"图片保存失败。\")"
   ],
   "outputs": [],
   "execution_count": null
  },
  {
   "cell_type": "code",
   "id": "2179c275",
   "metadata": {},
   "source": [
    "# 19 Feature Importance（不支持：nb，knn，\n",
    "file_path_feature = plot_model(better_model, plot='feature', save=images_save_path)\n",
    "\n",
    "# 检查图片是否存在\n",
    "if os.path.exists(file_path_feature):\n",
    "    print(\"图片保存成功！\")\n",
    "    print(f\"生成的图片文件名：{file_path_feature}\")\n",
    "else:\n",
    "    print(\"图片保存失败。\")"
   ],
   "outputs": [],
   "execution_count": null
  },
  {
   "cell_type": "code",
   "id": "17be0d53",
   "metadata": {
    "scrolled": false
   },
   "source": [
    "# # 20 Decision Tree（不支持：xgboost，dt，lightgbm，rf，lda，gbc，knn，svm)\n",
    "# file_path_tree = plot_model(better_model, plot='tree', save=images_save_path)\n",
    "\n",
    "# # 检查图片是否存在\n",
    "# if os.path.exists(file_path_tree):\n",
    "#     print(\"图片保存成功！\")\n",
    "#     print(f\"生成的图片文件名：{file_path_tree}\")\n",
    "# else:\n",
    "#     print(\"图片保存失败。\")"
   ],
   "outputs": [],
   "execution_count": null
  },
  {
   "cell_type": "code",
   "id": "80422cca",
   "metadata": {},
   "source": [
    "# help(plot_model)"
   ],
   "outputs": [],
   "execution_count": null
  },
  {
   "cell_type": "markdown",
   "id": "4fa25f63",
   "metadata": {},
   "source": [
    "## 03获取正样本和负样本的平均预测概率"
   ]
  },
  {
   "cell_type": "markdown",
   "id": "0cad4192",
   "metadata": {},
   "source": [
    "## 03.1再次划分测试集"
   ]
  },
  {
   "cell_type": "code",
   "id": "87c1a007",
   "metadata": {},
   "source": [
    "import pandas as pd\n",
    "import numpy as np\n",
    "from sklearn.utils import shuffle\n",
    "\n",
    "# 随机打乱 test_data\n",
    "shuffled_new_test_data = shuffle(new_test_data, random_state=42)\n",
    "\n",
    "# 将 test_data 分成四份\n",
    "num_splits = 5\n",
    "splitted_data = np.array_split(shuffled_new_test_data, num_splits)\n",
    "\n",
    "\n",
    "# 打印每份的大小\n",
    "for i, split in enumerate(splitted_data):\n",
    "    print(f\"Split {i + 1}: {len(split)} rows\")\n",
    "\n",
    "# 可以通过索引访问每份数据\n",
    "test_data_split_1 = splitted_data[0]\n",
    "test_data_split_2 = splitted_data[1]\n",
    "test_data_split_3 = splitted_data[2]\n",
    "test_data_split_4 = splitted_data[3]\n",
    "test_data_split_5 = splitted_data[4]"
   ],
   "outputs": [],
   "execution_count": null
  },
  {
   "cell_type": "markdown",
   "id": "381c956b",
   "metadata": {},
   "source": [
    "## 03.2实验验证"
   ]
  },
  {
   "cell_type": "markdown",
   "id": "6613f32e",
   "metadata": {},
   "source": [
    "## 实验一"
   ]
  },
  {
   "cell_type": "code",
   "id": "99bacce5",
   "metadata": {
    "scrolled": true
   },
   "source": [
    "# predict on test set\n",
    "holdout_pred_1 = predict_model(better_model, data=test_data_split_1)"
   ],
   "outputs": [],
   "execution_count": null
  },
  {
   "cell_type": "code",
   "id": "1f3e6bd8",
   "metadata": {},
   "source": [
    "# 获取比较结果的数据框\n",
    "holdout_pred_1_results = pull()\n",
    "\n",
    "# 保存为CSV文件\n",
    "save_path_holdout_pred_1_results = os.path.join(data_folder_model, 'holdout_pred_1_results.csv')\n",
    "holdout_pred_1_results.to_csv(save_path_holdout_pred_1_results, index=False)\n",
    "\n",
    "# 检查文件是否成功保存\n",
    "if os.path.exists(save_path_holdout_pred_1_results):\n",
    "    print(f\"CSV file saved successfully at: {save_path_holdout_pred_1_results}\")\n",
    "else:\n",
    "    print(f\"Failed to save CSV file at: {save_path_holdout_pred_1_results}\")"
   ],
   "outputs": [],
   "execution_count": null
  },
  {
   "cell_type": "code",
   "id": "5c01ac77",
   "metadata": {},
   "source": [
    "# show predictions df\n",
    "holdout_pred_1.head()"
   ],
   "outputs": [],
   "execution_count": null
  },
  {
   "cell_type": "code",
   "id": "a4f5bf84",
   "metadata": {},
   "source": [
    "# 保存为CSV文件\n",
    "save_path_holdout_pred_1 = os.path.join(data_folder_model, 'holdout_pred_1.csv')\n",
    "holdout_pred_1.to_csv(save_path_holdout_pred_1, index=False)\n",
    "\n",
    "# 检查文件是否成功保存\n",
    "if os.path.exists(save_path_holdout_pred_1):\n",
    "    print(f\"CSV file saved successfully at: {save_path_holdout_pred_1}\")\n",
    "else:\n",
    "    print(f\"Failed to save CSV file at: {save_path_holdout_pred_1}\")\n",
    "    "
   ],
   "outputs": [],
   "execution_count": null
  },
  {
   "cell_type": "code",
   "id": "ec2143d7",
   "metadata": {},
   "source": [
    "# 计算平均概率：（不支持：svm\n",
    "# 正样本\n",
    "apsl_nor_exp_1 = calculate_and_display_average_prediction_score(holdout_pred_1, 0)\n",
    "print(f\"{apsl_nor_exp_1}\")\n",
    "\n",
    "# 负样本\n",
    "apsl_abn_exp_1 = calculate_and_display_average_prediction_score(holdout_pred_1, 1)\n",
    "print(f\"{apsl_abn_exp_1}\")"
   ],
   "outputs": [],
   "execution_count": null
  },
  {
   "cell_type": "markdown",
   "id": "f75dd0cc",
   "metadata": {},
   "source": [
    "## 实验二"
   ]
  },
  {
   "cell_type": "code",
   "id": "1d7bfe43",
   "metadata": {},
   "source": [
    "# predict on test set\n",
    "holdout_pred_2 = predict_model(better_model, data=test_data_split_2)"
   ],
   "outputs": [],
   "execution_count": null
  },
  {
   "cell_type": "code",
   "id": "9ddccf3d",
   "metadata": {},
   "source": [
    "# 获取比较结果的数据框\n",
    "holdout_pred_2_results = pull()\n",
    "\n",
    "# 保存为CSV文件\n",
    "save_path_holdout_pred_2_results = os.path.join(data_folder_model, 'holdout_pred_2_results.csv')\n",
    "holdout_pred_2_results.to_csv(save_path_holdout_pred_2_results, index=False)\n",
    "\n",
    "# 检查文件是否成功保存\n",
    "if os.path.exists(save_path_holdout_pred_2_results):\n",
    "    print(f\"CSV file saved successfully at: {save_path_holdout_pred_2_results}\")\n",
    "else:\n",
    "    print(f\"Failed to save CSV file at: {save_path_holdout_pred_2_results}\")"
   ],
   "outputs": [],
   "execution_count": null
  },
  {
   "cell_type": "code",
   "id": "da9fcc0b",
   "metadata": {},
   "source": [
    "# show predictions df\n",
    "holdout_pred_2.head()"
   ],
   "outputs": [],
   "execution_count": null
  },
  {
   "cell_type": "code",
   "id": "46b309ec",
   "metadata": {},
   "source": [
    "# 保存为CSV文件\n",
    "save_path_holdout_pred_2 = os.path.join(data_folder_model, 'holdout_pred_2.csv')\n",
    "holdout_pred_2.to_csv(save_path_holdout_pred_2, index=False)\n",
    "\n",
    "# 检查文件是否成功保存\n",
    "if os.path.exists(save_path_holdout_pred_2):\n",
    "    print(f\"CSV file saved successfully at: {save_path_holdout_pred_2}\")\n",
    "else:\n",
    "    print(f\"Failed to save CSV file at: {save_path_holdout_pred_2}\")\n",
    "    "
   ],
   "outputs": [],
   "execution_count": null
  },
  {
   "cell_type": "code",
   "id": "7a871678",
   "metadata": {},
   "source": [
    "# 计算平均概率：（不支持：svm\n",
    "# 正样本\n",
    "apsl_nor_exp_2 = calculate_and_display_average_prediction_score(holdout_pred_2, 0)\n",
    "\n",
    "# 负样本\n",
    "apsl_abn_exp_2 = calculate_and_display_average_prediction_score(holdout_pred_2, 1)"
   ],
   "outputs": [],
   "execution_count": null
  },
  {
   "cell_type": "markdown",
   "id": "6c59e11e",
   "metadata": {},
   "source": [
    "## 实验三"
   ]
  },
  {
   "cell_type": "code",
   "id": "536a87d9",
   "metadata": {},
   "source": [
    "# predict on test set\n",
    "holdout_pred_3 = predict_model(better_model, data=test_data_split_3)"
   ],
   "outputs": [],
   "execution_count": null
  },
  {
   "cell_type": "code",
   "id": "37e59963",
   "metadata": {},
   "source": [
    "# 获取比较结果的数据框\n",
    "holdout_pred_3_results = pull()\n",
    "\n",
    "# 保存为CSV文件\n",
    "save_path_holdout_pred_3_results = os.path.join(data_folder_model, 'holdout_pred_3_results.csv')\n",
    "holdout_pred_3_results.to_csv(save_path_holdout_pred_3_results, index=False)\n",
    "\n",
    "# 检查文件是否成功保存\n",
    "if os.path.exists(save_path_holdout_pred_3_results):\n",
    "    print(f\"CSV file saved successfully at: {save_path_holdout_pred_3_results}\")\n",
    "else:\n",
    "    print(f\"Failed to save CSV file at: {save_path_holdout_pred_3_results}\")"
   ],
   "outputs": [],
   "execution_count": null
  },
  {
   "cell_type": "code",
   "id": "641b227f",
   "metadata": {},
   "source": [
    "# show predictions df\n",
    "holdout_pred_3.head()"
   ],
   "outputs": [],
   "execution_count": null
  },
  {
   "cell_type": "code",
   "id": "04865e02",
   "metadata": {},
   "source": [
    "# 保存为CSV文件\n",
    "save_path_holdout_pred_3 = os.path.join(data_folder_model, 'holdout_pred_3.csv')\n",
    "holdout_pred_3.to_csv(save_path_holdout_pred_3, index=False)\n",
    "\n",
    "# 检查文件是否成功保存\n",
    "if os.path.exists(save_path_holdout_pred_3):\n",
    "    print(f\"CSV file saved successfully at: {save_path_holdout_pred_3}\")\n",
    "else:\n",
    "    print(f\"Failed to save CSV file at: {save_path_holdout_pred_3}\")\n",
    "    "
   ],
   "outputs": [],
   "execution_count": null
  },
  {
   "cell_type": "code",
   "id": "e6462981",
   "metadata": {},
   "source": [
    "# 计算平均概率：（不支持：svm\n",
    "# 正样本\n",
    "apsl_nor_exp_3 = calculate_and_display_average_prediction_score(holdout_pred_3, 0)\n",
    "\n",
    "# 负样本\n",
    "apsl_abn_exp_3 = calculate_and_display_average_prediction_score(holdout_pred_3, 1)"
   ],
   "outputs": [],
   "execution_count": null
  },
  {
   "cell_type": "markdown",
   "id": "d318c150",
   "metadata": {},
   "source": [
    "## 实验四"
   ]
  },
  {
   "cell_type": "code",
   "id": "73dfcc83",
   "metadata": {},
   "source": [
    "# predict on test set\n",
    "holdout_pred_4 = predict_model(better_model, data=test_data_split_4)"
   ],
   "outputs": [],
   "execution_count": null
  },
  {
   "cell_type": "code",
   "id": "b7e66dba",
   "metadata": {},
   "source": [
    "# 获取比较结果的数据框\n",
    "holdout_pred_4_results = pull()\n",
    "\n",
    "# 保存为CSV文件\n",
    "save_path_holdout_pred_4_results = os.path.join(data_folder_model, 'holdout_pred_4_results.csv')\n",
    "holdout_pred_4_results.to_csv(save_path_holdout_pred_4_results, index=False)\n",
    "\n",
    "# 检查文件是否成功保存\n",
    "if os.path.exists(save_path_holdout_pred_4_results):\n",
    "    print(f\"CSV file saved successfully at: {save_path_holdout_pred_4_results}\")\n",
    "else:\n",
    "    print(f\"Failed to save CSV file at: {save_path_holdout_pred_4_results}\")"
   ],
   "outputs": [],
   "execution_count": null
  },
  {
   "cell_type": "code",
   "id": "37e63281",
   "metadata": {},
   "source": [
    "# show predictions df\n",
    "holdout_pred_4.head()"
   ],
   "outputs": [],
   "execution_count": null
  },
  {
   "cell_type": "code",
   "id": "6c375094",
   "metadata": {},
   "source": [
    "# 保存为CSV文件\n",
    "save_path_holdout_pred_4 = os.path.join(data_folder_model, 'holdout_pred_4.csv')\n",
    "holdout_pred_4.to_csv(save_path_holdout_pred_4, index=False)\n",
    "\n",
    "# 检查文件是否成功保存\n",
    "if os.path.exists(save_path_holdout_pred_4):\n",
    "    print(f\"CSV file saved successfully at: {save_path_holdout_pred_4}\")\n",
    "else:\n",
    "    print(f\"Failed to save CSV file at: {save_path_holdout_pred_4}\")\n",
    "    "
   ],
   "outputs": [],
   "execution_count": null
  },
  {
   "cell_type": "code",
   "id": "99df3506",
   "metadata": {},
   "source": [
    "# 计算平均概率：（不支持：svm\n",
    "# 正样本\n",
    "apsl_nor_exp_4 = calculate_and_display_average_prediction_score(holdout_pred_4, 0)\n",
    "\n",
    "# 负样本\n",
    "apsl_abn_exp_4 = calculate_and_display_average_prediction_score(holdout_pred_4, 1)"
   ],
   "outputs": [],
   "execution_count": null
  },
  {
   "cell_type": "markdown",
   "id": "0c194236",
   "metadata": {},
   "source": [
    "## 实验五"
   ]
  },
  {
   "cell_type": "code",
   "id": "aa287809",
   "metadata": {},
   "source": [
    "# predict on test set\n",
    "holdout_pred_5 = predict_model(better_model, data=test_data_split_5)"
   ],
   "outputs": [],
   "execution_count": null
  },
  {
   "cell_type": "code",
   "id": "3c7b3e3c",
   "metadata": {},
   "source": [
    "# 获取比较结果的数据框\n",
    "holdout_pred_5_results = pull()\n",
    "\n",
    "# 保存为CSV文件\n",
    "save_path_holdout_pred_5_results = os.path.join(data_folder_model, 'holdout_pred_5_results.csv')\n",
    "holdout_pred_5_results.to_csv(save_path_holdout_pred_5_results, index=False)\n",
    "\n",
    "# 检查文件是否成功保存\n",
    "if os.path.exists(save_path_holdout_pred_5_results):\n",
    "    print(f\"CSV file saved successfully at: {save_path_holdout_pred_5_results}\")\n",
    "else:\n",
    "    print(f\"Failed to save CSV file at: {save_path_holdout_pred_5_results}\")"
   ],
   "outputs": [],
   "execution_count": null
  },
  {
   "cell_type": "code",
   "id": "e3f85d68",
   "metadata": {},
   "source": [
    "# show predictions df\n",
    "holdout_pred_5.head()"
   ],
   "outputs": [],
   "execution_count": null
  },
  {
   "cell_type": "code",
   "id": "ba28e7e8",
   "metadata": {},
   "source": [
    "# 保存为CSV文件\n",
    "save_path_holdout_pred_5 = os.path.join(data_folder_model, 'holdout_pred_5.csv')\n",
    "holdout_pred_5.to_csv(save_path_holdout_pred_5, index=False)\n",
    "\n",
    "# 检查文件是否成功保存\n",
    "if os.path.exists(save_path_holdout_pred_5):\n",
    "    print(f\"CSV file saved successfully at: {save_path_holdout_pred_5}\")\n",
    "else:\n",
    "    print(f\"Failed to save CSV file at: {save_path_holdout_pred_5}\")"
   ],
   "outputs": [],
   "execution_count": null
  },
  {
   "cell_type": "code",
   "id": "16f17577",
   "metadata": {},
   "source": [
    "# 计算平均概率：（不支持：svm\n",
    "# 正样本\n",
    "apsl_nor_exp_5 = calculate_and_display_average_prediction_score(holdout_pred_5, 0)\n",
    "\n",
    "# 负样本\n",
    "apsl_abn_exp_5 = calculate_and_display_average_prediction_score(holdout_pred_5, 1)"
   ],
   "outputs": [],
   "execution_count": null
  },
  {
   "cell_type": "markdown",
   "id": "3e79aa8b",
   "metadata": {},
   "source": [
    "## 03.3整合所有平均预测概率、保存"
   ]
  },
  {
   "cell_type": "code",
   "id": "ebf093a2",
   "metadata": {},
   "source": [
    "# 计算平均概率（不支持：svm\n",
    "import pandas as pd\n",
    "\n",
    "\n",
    "def calculate_mean(exp_list, exp_name):\n",
    "    mean_exp_list = sum(exp_list) / len(exp_list)\n",
    "    result = {exp_name: exp_list + [mean_exp_list]}\n",
    "    return result\n",
    "\n",
    "\n",
    "apsl_nor_list = [apsl_nor_exp_1, apsl_nor_exp_2, apsl_nor_exp_3, apsl_nor_exp_4, apsl_nor_exp_5]\n",
    "apsl_abn_list = [apsl_abn_exp_1, apsl_abn_exp_2, apsl_abn_exp_3, apsl_abn_exp_4, apsl_abn_exp_5]\n",
    "\n",
    "experiments = {}\n",
    "\n",
    "experiments.update(calculate_mean(apsl_nor_list, \"nor\"))\n",
    "experiments.update(calculate_mean(apsl_abn_list, \"abn\"))\n",
    "\n",
    "# 生成列标签\n",
    "column_labels = [f\"test{i}\" for i in range(1, len(apsl_nor_list) + 1)] + [\"mean\"]\n",
    "\n",
    "experiments_prediction_score_df = pd.DataFrame(experiments).T\n",
    "experiments_prediction_score_df.columns = column_labels\n",
    "print(experiments_prediction_score_df)\n",
    "\n",
    "# 保存为CSV文件\n",
    "save_path_experiments_prediction_score_df = os.path.join(data_folder_model, 'experiments_prediction_score_df.csv')\n",
    "experiments_prediction_score_df.to_csv(save_path_experiments_prediction_score_df, index=False)\n"
   ],
   "outputs": [],
   "execution_count": null
  },
  {
   "cell_type": "code",
   "id": "f3882bf3",
   "metadata": {},
   "source": [
    "# 检查文件是否成功保存\n",
    "if os.path.exists(save_path_experiments_prediction_score_df):\n",
    "    print(f\"CSV file saved successfully at: {save_path_experiments_prediction_score_df}\")\n",
    "else:\n",
    "    print(f\"Failed to save CSV file at: {save_path_experiments_prediction_score_df}\")"
   ],
   "outputs": [],
   "execution_count": null
  },
  {
   "cell_type": "markdown",
   "id": "e169ae86",
   "metadata": {},
   "source": "## Save / Load Model\n"
  },
  {
   "cell_type": "code",
   "id": "bc5cf24a",
   "metadata": {},
   "source": [
    "# save model\n",
    "save_model(better_model, os.path.join(data_folder_model, 'better_model'))"
   ],
   "outputs": [],
   "execution_count": null
  },
  {
   "cell_type": "code",
   "id": "e8478d34",
   "metadata": {},
   "source": [
    "# # load model\n",
    "# loaded_from_disk = load_model('my_first_model')\n",
    "# loaded_from_disk"
   ],
   "outputs": [],
   "execution_count": null
  },
  {
   "cell_type": "markdown",
   "id": "de5eee8c",
   "metadata": {},
   "source": "## Save / Load Experiment\n"
  },
  {
   "cell_type": "code",
   "id": "6a3c61b6",
   "metadata": {},
   "source": [
    "# # save experiment\n",
    "# save_experiment('my_experiment')"
   ],
   "outputs": [],
   "execution_count": null
  },
  {
   "cell_type": "code",
   "id": "83252c09",
   "metadata": {},
   "source": [
    "# # load experiment from disk\n",
    "# exp_from_disk = load_experiment('my_experiment', data=new_train_data, test_data=new_test_data,)"
   ],
   "outputs": [],
   "execution_count": null
  },
  {
   "cell_type": "code",
   "id": "e61208a1",
   "metadata": {},
   "source": [],
   "outputs": [],
   "execution_count": null
  }
 ],
 "metadata": {
  "kernelspec": {
   "display_name": "Python 3 (ipykernel)",
   "language": "python",
   "name": "python3"
  },
  "language_info": {
   "codemirror_mode": {
    "name": "ipython",
    "version": 3
   },
   "file_extension": ".py",
   "mimetype": "text/x-python",
   "name": "python",
   "nbconvert_exporter": "python",
   "pygments_lexer": "ipython3",
   "version": "3.10.9"
  }
 },
 "nbformat": 4,
 "nbformat_minor": 5
}
